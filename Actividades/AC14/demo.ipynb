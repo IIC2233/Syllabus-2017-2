{
 "cells": [
  {
   "cell_type": "markdown",
   "metadata": {},
   "source": [
    "# Demo\n",
    "\n",
    "Este _demo_ sirve para probar los diferentes métodos que expone la clase `Battleship`."
   ]
  },
  {
   "cell_type": "markdown",
   "metadata": {},
   "source": [
    "## Nuevos barcos\n",
    "\n",
    "Primero, importamos a la clase `Battleship`, que es donde se desarrolla el juego."
   ]
  },
  {
   "cell_type": "code",
   "execution_count": null,
   "metadata": {
    "collapsed": true
   },
   "outputs": [],
   "source": [
    "from battleship import Battleship"
   ]
  },
  {
   "cell_type": "markdown",
   "metadata": {},
   "source": [
    "Inventemos una instancia de esta clase,\n",
    "en donde es posible ajustar el tamaño del tablero y la cantidad máxima de naves.  \n",
    "Además, el constructor **puede recibir un booleano `loaded`**\n",
    "que permite cargar los tableros de antemano con los barcos."
   ]
  },
  {
   "cell_type": "code",
   "execution_count": null,
   "metadata": {
    "collapsed": true
   },
   "outputs": [],
   "source": [
    "battle = Battleship(boardsize=5, max_ships=5, loaded=False)\n",
    "# Y con loaded=True, los tableros vendrían con barcos puestos de forma aleatoria."
   ]
  },
  {
   "cell_type": "markdown",
   "metadata": {},
   "source": [
    "Agreguemos, ahora, algunos [barquitos](http://www.forgottenempires.net/wp-content/uploads/aoe2_water_maps.png)\n",
    "para cada jugador.  \n",
    "El jugador uno se referencia con `P1`; el otro lo hace con `P2`.  \n",
    "Además, se **debe** entregar una lista con coordenadas, para señalar dónde irá cada barco.  \n",
    "**Nota no relevante pero,  de todas formas, en negritas:** esto está (completamente) inspirado en la [notación algebraica](https://en.wikipedia.org/wiki/Algebraic_notation_%28chess%29) usada en ajedrez."
   ]
  },
  {
   "cell_type": "code",
   "execution_count": null,
   "metadata": {
    "collapsed": true
   },
   "outputs": [],
   "source": [
    "battle.add_ships('P1', ['a1', 'b2', 'e2'])\n",
    "battle.add_ships('P2', ['a1', 'b3', 'c2', 'd4'])"
   ]
  },
  {
   "cell_type": "markdown",
   "metadata": {},
   "source": [
    "Veamos cómo quedó el mapa de cada jugador, después de agregar los barcos dragones."
   ]
  },
  {
   "cell_type": "code",
   "execution_count": null,
   "metadata": {
    "collapsed": true
   },
   "outputs": [],
   "source": [
    "print(battle.players['P1'].board)"
   ]
  },
  {
   "cell_type": "markdown",
   "metadata": {},
   "source": [
    "Muy bien. Y ahora para el jugador dos."
   ]
  },
  {
   "cell_type": "code",
   "execution_count": null,
   "metadata": {
    "collapsed": true
   },
   "outputs": [],
   "source": [
    "print(battle.players['P2'].board)"
   ]
  },
  {
   "cell_type": "markdown",
   "metadata": {},
   "source": [
    "Sin embargo, esta librería (¿librería?) permite utilizar una notación mucho más sucinta. "
   ]
  },
  {
   "cell_type": "code",
   "execution_count": null,
   "metadata": {
    "collapsed": true
   },
   "outputs": [],
   "source": [
    "print(battle.p1.board)"
   ]
  },
  {
   "cell_type": "code",
   "execution_count": null,
   "metadata": {
    "collapsed": true
   },
   "outputs": [],
   "source": [
    "print(battle.p2.board)"
   ]
  },
  {
   "cell_type": "markdown",
   "metadata": {},
   "source": [
    "¡Vaya, cuánta concisión! (Sí, esa palabra sí [existe](http://dle.rae.es/?id=bPkTaY4|bPmU3j2).)"
   ]
  },
  {
   "cell_type": "markdown",
   "metadata": {},
   "source": [
    "Aprovechando las capacidades de metaprogramación, también es posible acceder a cada casilla de forma concisa."
   ]
  },
  {
   "cell_type": "code",
   "execution_count": null,
   "metadata": {
    "collapsed": true
   },
   "outputs": [],
   "source": [
    "# para P1\n",
    "print(battle.p1.board.a1)\n",
    "print(battle.p1.board.b2)\n",
    "print(battle.p1.board.c3)\n",
    "print()\n",
    "\n",
    "# para P2\n",
    "print(battle.p2.board.a1)\n",
    "print(battle.p2.board.b2)\n",
    "print(battle.p2.board.c3)"
   ]
  },
  {
   "cell_type": "markdown",
   "metadata": {},
   "source": [
    "¡O incluso modificarla!  \n",
    "Intentemos agregar un barco para el primer jugador."
   ]
  },
  {
   "cell_type": "code",
   "execution_count": null,
   "metadata": {
    "collapsed": true
   },
   "outputs": [],
   "source": [
    "battle.p1.board.c3 = 'O'\n",
    "print(battle.p1.board.c3)"
   ]
  },
  {
   "cell_type": "markdown",
   "metadata": {},
   "source": [
    "Y esto, obviamente, cambiará el mapa del jugador."
   ]
  },
  {
   "cell_type": "code",
   "execution_count": null,
   "metadata": {
    "collapsed": true
   },
   "outputs": [],
   "source": [
    "print(battle.p1.board)"
   ]
  },
  {
   "cell_type": "markdown",
   "metadata": {},
   "source": [
    "(Psst… hay un nuevo barco en `c3`.)"
   ]
  },
  {
   "cell_type": "markdown",
   "metadata": {},
   "source": [
    "## Ataques\n",
    "\n",
    "Ahora, vayamos al [quid](http://dle.rae.es/?id=UpHbqdL) del juego: hundir barcos enemigos.  \n",
    "Imaginemos que `P1` ataca dos veces. Esto se logra con el método `attack`."
   ]
  },
  {
   "cell_type": "code",
   "execution_count": null,
   "metadata": {
    "collapsed": true
   },
   "outputs": [],
   "source": [
    "battle.attack('P1', 'b3')  # hit  --> el enemigo tiene un ship en 'b3'.\n",
    "battle.attack('P1', 'a2')  # miss --> sin embargo, no hay nada en 'a2'."
   ]
  },
  {
   "cell_type": "markdown",
   "metadata": {},
   "source": [
    "Veamos el **conjunto** de lugares donde el primer jugador ha atacado."
   ]
  },
  {
   "cell_type": "code",
   "execution_count": null,
   "metadata": {
    "collapsed": true
   },
   "outputs": [],
   "source": [
    "print(battle.p1.attacks)"
   ]
  },
  {
   "cell_type": "markdown",
   "metadata": {},
   "source": [
    "Ahora, también es importante mostrar la vista general según cada jugador.  \n",
    "En esta vista, el jugador ve todos sus barcos y los ataques efectuados al enemigo.  \n",
    "Esto se logra utilizando el método `view_from(player)`, que permite indicar desde qué jugador se mirará."
   ]
  },
  {
   "cell_type": "code",
   "execution_count": null,
   "metadata": {
    "collapsed": true
   },
   "outputs": [],
   "source": [
    "print(battle.view_from('P1'))"
   ]
  },
  {
   "cell_type": "markdown",
   "metadata": {},
   "source": [
    "Un `X` significa que el ataque fue exitoso (también conocido como _hit_),  \n",
    "mientras que una arremetida fallida se representa con un `@` (un _miss_)."
   ]
  },
  {
   "cell_type": "markdown",
   "metadata": {},
   "source": [
    "Y ahora veamos qué esta mirando el jugador atacado."
   ]
  },
  {
   "cell_type": "code",
   "execution_count": null,
   "metadata": {
    "collapsed": true
   },
   "outputs": [],
   "source": [
    "print(battle.view_from('P2'))"
   ]
  },
  {
   "cell_type": "markdown",
   "metadata": {},
   "source": [
    "Para entregar un poco de justicia al juego, digamos que ahora le toca atacar a `P2`."
   ]
  },
  {
   "cell_type": "code",
   "execution_count": null,
   "metadata": {
    "collapsed": true
   },
   "outputs": [],
   "source": [
    "battle.attack('P2', 'c3')  # hit --> el enemigo tiene un ship en 'c3'.\n",
    "print(battle.p2.attacks)"
   ]
  },
  {
   "cell_type": "markdown",
   "metadata": {},
   "source": [
    "Veamos cómo se ve esto desde ambos lados."
   ]
  },
  {
   "cell_type": "code",
   "execution_count": null,
   "metadata": {
    "collapsed": true
   },
   "outputs": [],
   "source": [
    "print(battle.view_from('P1'))"
   ]
  },
  {
   "cell_type": "code",
   "execution_count": null,
   "metadata": {
    "collapsed": true
   },
   "outputs": [],
   "source": [
    "print(battle.view_from('P2'))"
   ]
  },
  {
   "cell_type": "markdown",
   "metadata": {},
   "source": [
    "Y por último, veamos si es que el juego finalizó."
   ]
  },
  {
   "cell_type": "code",
   "execution_count": null,
   "metadata": {
    "collapsed": true
   },
   "outputs": [],
   "source": [
    "battle.game_over()"
   ]
  },
  {
   "cell_type": "markdown",
   "metadata": {},
   "source": [
    "No, no ha terminado porque todavía le quedan galeras de guerra a ambos jugadores.  \n",
    "Bueno, aprovechemos de eliminar todos los barcos enemigos."
   ]
  },
  {
   "cell_type": "code",
   "execution_count": null,
   "metadata": {
    "collapsed": true
   },
   "outputs": [],
   "source": [
    "battle.attack('P1', 'a1')\n",
    "battle.attack('P1', 'c2') \n",
    "battle.attack('P1', 'd4') "
   ]
  },
  {
   "cell_type": "code",
   "execution_count": null,
   "metadata": {
    "collapsed": true
   },
   "outputs": [],
   "source": [
    "print(battle.view_from('P2'))"
   ]
  },
  {
   "cell_type": "code",
   "execution_count": null,
   "metadata": {
    "collapsed": true
   },
   "outputs": [],
   "source": [
    "battle.game_over()"
   ]
  },
  {
   "cell_type": "markdown",
   "metadata": {},
   "source": [
    "Por último, veamos quién ganó."
   ]
  },
  {
   "cell_type": "code",
   "execution_count": null,
   "metadata": {
    "collapsed": true
   },
   "outputs": [],
   "source": [
    "battle.get_winner()"
   ]
  },
  {
   "cell_type": "markdown",
   "metadata": {},
   "source": [
    "Fin."
   ]
  }
 ],
 "metadata": {
  "kernelspec": {
   "display_name": "Python 3",
   "language": "python",
   "name": "python3"
  },
  "language_info": {
   "codemirror_mode": {
    "name": "ipython",
    "version": 3
   },
   "file_extension": ".py",
   "mimetype": "text/x-python",
   "name": "python",
   "nbconvert_exporter": "python",
   "pygments_lexer": "ipython3",
   "version": "3.5.2"
  }
 },
 "nbformat": 4,
 "nbformat_minor": 2
}

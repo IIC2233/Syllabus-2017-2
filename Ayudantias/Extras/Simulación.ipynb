{
 "cells": [
  {
   "cell_type": "markdown",
   "metadata": {},
   "source": [
    "# Material Extra de Simulación\n",
    "\n",
    "***Gabriel Lyon***\n",
    "\n",
    "**Algunos aspectos importantes de simulación por enventos discretos:**\n",
    "- Identificar cuales son los eventos\n",
    "- Generar los eventos iniciales\n",
    "- Entender que se hace cuando avanzamos al siguiente evento\n",
    "- Generar el siguiente evento cuando corresponda"
   ]
  },
  {
   "cell_type": "markdown",
   "metadata": {},
   "source": [
    "### ¿Cómo detectar eventos?\n",
    "\n",
    "Mas que una fórmula es bueno hacer el siguiente cuestionamiento; si al avanzar a un evento puede ocurrir otra acción entre medio:\n",
    "- Si respuesta es afirmativa, (1) ¿cuál es esa acción? (2) ¿tiene incidencia sobre lo que estamos simulando?, entonces:\n",
    "    - Si la ambas respuestas son afirmativas han detectado otro evento\n",
    "- Si la respuesta es negativa, la \"acción\" detectada no es un evento\n",
    "\n",
    "Pude suceder que se haya detectado el evento pero no han sido ordenados correctamente. Esto puede llevar a avanzar a un evento que no corresponda. Esto se puede corregir ordenando la lista de eventos respecto a su tiempo de ocurrencia.\n",
    "\n",
    "\n",
    "### ¿Qué debo actualizar en los eventos?\n",
    "\n",
    "Una vez que avanzamos al siguiente evento se debe actualizar todas las variables de estado (datos de posición, vida, horario, etc).\n",
    "Ejemplo si estámos simulando una maratón donde los únicos eventos son cuando un competidor se cae o si un competidor llega a la meta. Diremos que si el competidor se cae se demora 1 minuto más en la carrera.\n",
    "\n",
    "Llamaremos a estos eventos de la siguiente manera:\n",
    "- *caída de un competidor* \n",
    "- *participante llega a la meta*\n",
    "\n",
    "Entonces al avanzar al evento ***caída de un competidor*** lo que hacemos es actualizar: \n",
    "- El tiempo total\n",
    "- La posición de todos los competidores (según cuantos minutos hayan pasado desde el evento anterior)\n",
    "- Restrasar en un minuto a la persona que se cayó (**acción propia del evento**)\n",
    "- Ver si alguien llegó a la meta\n",
    "- Analizar la probabilidad de que alguien se caiga en el futuro; si la probabilidad existe entonces generamos el siguiente evento, sino analizamos quién llegará primero a la meta y generamos el evento ***participante llega a la meta***.\n",
    "\n",
    "De esta manera al avanzar al siguiente evento ajustamos parámetros:\n",
    "- Tiempo total\n",
    "- Posición de los competidores\n",
    "- Calcular si alguien llego a la meta\n",
    "\n",
    "Y también ejecutamos las acciones propias del evento:\n",
    "- Retrasar en 1 minuto el tiempo del competidor que se cayó\n",
    "- Analizar si es que existe la probabilidad de que alguién se vuelva a caer (si existe generamos otro evento)\n",
    "- Sino calcular el tiempo para que el competidor que va más adelante llegue a la meta y generar otro evento"
   ]
  }
 ],
 "metadata": {
  "kernelspec": {
   "display_name": "Python 3",
   "language": "python",
   "name": "python3"
  },
  "language_info": {
   "codemirror_mode": {
    "name": "ipython",
    "version": 3
   },
   "file_extension": ".py",
   "mimetype": "text/x-python",
   "name": "python",
   "nbconvert_exporter": "python",
   "pygments_lexer": "ipython3",
   "version": "3.6.3"
  }
 },
 "nbformat": 4,
 "nbformat_minor": 2
}

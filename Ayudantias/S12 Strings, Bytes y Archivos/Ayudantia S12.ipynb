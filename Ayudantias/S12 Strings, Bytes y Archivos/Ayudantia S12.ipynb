{
 "cells": [
  {
   "cell_type": "markdown",
   "metadata": {},
   "source": [
    "## Ayudantía Archivos y Bytes\n",
    "#### Alejandro Kaminetzky y Raúl Álvarez"
   ]
  },
  {
   "cell_type": "markdown",
   "metadata": {},
   "source": [
    "### Funciones útiles:\n",
    "\n",
    "* bytes\n",
    "* bytearray\n",
    "* open"
   ]
  },
  {
   "cell_type": "markdown",
   "metadata": {},
   "source": [
    "#### Bytes:\n",
    "¿Cuál uso es correcto?"
   ]
  },
  {
   "cell_type": "code",
   "execution_count": null,
   "metadata": {
    "collapsed": true
   },
   "outputs": [],
   "source": [
    "test_1 = bytes(75)\n",
    "test_2 = bytes([75])"
   ]
  },
  {
   "cell_type": "markdown",
   "metadata": {},
   "source": [
    "Un byte puede tomar un valor número entre 0 y 255."
   ]
  },
  {
   "cell_type": "markdown",
   "metadata": {},
   "source": [
    "**¿Por qué?**"
   ]
  },
  {
   "cell_type": "markdown",
   "metadata": {},
   "source": [
    "#### Bytearray:\n",
    "\n",
    "Se puede utilizar `extend`, `append` o el operador `+` para agregar bytes al bytearray."
   ]
  },
  {
   "cell_type": "code",
   "execution_count": null,
   "metadata": {
    "collapsed": true
   },
   "outputs": [],
   "source": []
  },
  {
   "cell_type": "markdown",
   "metadata": {},
   "source": [
    "#### Open"
   ]
  },
  {
   "cell_type": "code",
   "execution_count": null,
   "metadata": {
    "collapsed": true
   },
   "outputs": [],
   "source": []
  },
  {
   "cell_type": "markdown",
   "metadata": {},
   "source": [
    "### Problema planteado:\n",
    "\n",
    "Se tiene un archivo codificado con el nombre \"encoded.file\".\n",
    "\n",
    "El primer byte del archivo decodificado se obtiene de la siguiente manera:\n",
    "\n",
    "* Se suman los 4 primeros bytes de \"encoded.file\".\n",
    "* Los dígitos se cambian dada esta gráfica: \n",
    "![title](table0.png)\n",
    "* El número obtenido se invierte.\n",
    "\n",
    "El segundo byte se obtiene de manera análoga.\n",
    "\n",
    "Una imagen que representa el proceso sería la siguiente:\n",
    "![title](table1.png)"
   ]
  }
 ],
 "metadata": {
  "kernelspec": {
   "display_name": "Python 3",
   "language": "python",
   "name": "python3"
  },
  "language_info": {
   "codemirror_mode": {
    "name": "ipython",
    "version": 3
   },
   "file_extension": ".py",
   "mimetype": "text/x-python",
   "name": "python",
   "nbconvert_exporter": "python",
   "pygments_lexer": "ipython3",
   "version": "3.6.1"
  }
 },
 "nbformat": 4,
 "nbformat_minor": 2
}

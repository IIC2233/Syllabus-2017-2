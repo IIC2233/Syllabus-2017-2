{
 "cells": [
  {
   "cell_type": "markdown",
   "metadata": {},
   "source": [
    "# Ayudantía Web Services & Regex"
   ]
  },
  {
   "cell_type": "markdown",
   "metadata": {},
   "source": [
    "Realizaremos la actividad correspondiente al semestre 2017-1."
   ]
  },
  {
   "cell_type": "markdown",
   "metadata": {},
   "source": [
    "## Parte 1: `Regex`"
   ]
  },
  {
   "cell_type": "markdown",
   "metadata": {},
   "source": [
    "Mientras los ayudantes de Programación Avanzada creaban la actividad número 15, ~~derramaron su café sobre el computador~~ \n",
    "fueron hackeados por GEPANI, quien se encargó de estropear el enunciado de la actividad. Como los ayudantes son un tanto \n",
    "perezosos, dejaron el enunciado así y lo subieron al repositorio.\n",
    "\n",
    "Ahora ustedes, como grandes programadores y ansiosos de terminar la última actividad, tendrán que arreglar\n",
    "los párrafos corruptos para poder realizarla.\n",
    "Los párrafos corruptos tienen las siguientes peculiaridades:\n",
    "    \n",
    "1. Cada palabra está separada por un @. \n",
    "\n",
    "2. En el primer grupo las palabras correctas son las que no tienen\n",
    "ningún número dentro de ellas.\n",
    "\n",
    "3. En el segundo, las palabras correctas son las que contienen el string .correcta exactamente, dentro de\n",
    "ellas.\n",
    "\n",
    "4. En el tercero las palabras apropiadas son las que tienen un punto y están en minúsculas, como por\n",
    "ejemplo: ho.la\n",
    "    \n",
    "5. Deben seguir el resto de las instrucciones escondidas."
   ]
  },
  {
   "cell_type": "code",
   "execution_count": null,
   "metadata": {
    "collapsed": true
   },
   "outputs": [],
   "source": [
    "# importamos el modulo re para trabajar con regex\n",
    "import re\n",
    "\n",
    "# abrimos el archivo con el enunciado hackeado\n",
    "with open(\"AC15.txt\", \"r\", encoding = \"utf-8\") as file:\n",
    "    text = file.read()\n",
    "    # print(text) # visualizar el texto\n",
    "    # separamos los parrafos para aplicar los distintos criterios necesarios en cada uno\n",
    "    parrafos = re.split(\"\\n\\n\", text)"
   ]
  },
  {
   "cell_type": "markdown",
   "metadata": {},
   "source": [
    "Luego debemos evaluar que comandos de regex nos son utiles para realizar los pasos que se nos piden. En concreto, deseamos definir una función que nos permita distinguir las palabras correctas para cada criterio.\n",
    "\n",
    "Se nos dice que el primer grupo de palabras correctas no tienen ningún número dentro de ellas:"
   ]
  },
  {
   "cell_type": "code",
   "execution_count": null,
   "metadata": {
    "collapsed": true
   },
   "outputs": [],
   "source": [
    "def validar_primero(s):\n",
    "    pattern = \"[0-9]\"\n",
    "    return not bool(re.search(pattern, s))"
   ]
  },
  {
   "cell_type": "markdown",
   "metadata": {},
   "source": [
    "El segundo grupo, las palabras correctas contienen el string \".correcta\" exactamente, dentro de ellas:"
   ]
  },
  {
   "cell_type": "code",
   "execution_count": null,
   "metadata": {
    "collapsed": true
   },
   "outputs": [],
   "source": [
    "def validar_segundo(s):\n",
    "    pattern = \"[a-zA-Z]*\\.correcta[a-zA-Z]*\"\n",
    "    return bool(re.search(pattern, s))"
   ]
  },
  {
   "cell_type": "markdown",
   "metadata": {},
   "source": [
    "Y en el tercer grupo, las palabras apropiadas son las que tienen un punto y están en minúsculas:"
   ]
  },
  {
   "cell_type": "code",
   "execution_count": null,
   "metadata": {
    "collapsed": true
   },
   "outputs": [],
   "source": [
    "def validar_tercero(s):\n",
    "    pattern = \"[a-z]*\\.[a-z]*\"\n",
    "    return bool(re.match(pattern, s))"
   ]
  },
  {
   "cell_type": "markdown",
   "metadata": {
    "collapsed": true
   },
   "source": [
    "Ahora debemos ser capaces de recorrer las palabras separadas por @ y filtrarlas segun un criterio:"
   ]
  },
  {
   "cell_type": "code",
   "execution_count": null,
   "metadata": {
    "collapsed": true
   },
   "outputs": [],
   "source": [
    "def filtrar_palabras(parrafo, criterio):\n",
    "    palabras = re.split(\"@\", parrafo)\n",
    "    for palabra in palabras:\n",
    "        if criterio(palabra):\n",
    "            yield palabra"
   ]
  },
  {
   "cell_type": "markdown",
   "metadata": {},
   "source": [
    "La siguiente función solamente ayuda a que quede más bonito el output"
   ]
  },
  {
   "cell_type": "code",
   "execution_count": null,
   "metadata": {
    "collapsed": true
   },
   "outputs": [],
   "source": [
    "def nice_format(palabra):\n",
    "    if palabra[-1] == \"\\n\":\n",
    "        return palabra[:-1] + \" \"\n",
    "    else:\n",
    "        return palabra + \" \""
   ]
  },
  {
   "cell_type": "markdown",
   "metadata": {},
   "source": [
    "Finalmente debemos aplicar los filtros sobre los distintos parrafos para obtener el enunciado arreglado y así poder escribirlo en un archivo nuevo."
   ]
  },
  {
   "cell_type": "code",
   "execution_count": null,
   "metadata": {
    "collapsed": true
   },
   "outputs": [],
   "source": [
    "with open(\"enunciado.txt\", \"w\", encoding=\"utf-8\") as file:\n",
    "    enunciado = []\n",
    "    for palabra in filtrar_palabras(parrafos[0], validar_primero):\n",
    "        # el primer filtro nos entrega las palabras tal como las queremos\n",
    "        enunciado.append(nice_format(palabra))\n",
    "    enunciado.append(\"\\n\")\n",
    "    for palabra in filtrar_palabras(parrafos[1], validar_segundo):\n",
    "        # el segundo filtro requiere que removamos la ocurrencia de '.correcta'\n",
    "        palabra = re.sub(\"\\.correcta\", \"\", palabra)\n",
    "        enunciado.append(nice_format(palabra))\n",
    "    enunciado.append(\"\\n\")\n",
    "    for palabra in filtrar_palabras(parrafos[2], validar_tercero):\n",
    "        # el tercer filtro requiere que removamos la ocurrencia de '\\.'\n",
    "        palabra = re.sub(\"\\.\",\"\", palabra + \" \")\n",
    "        enunciado.append(nice_format(palabra))\n",
    "    enunciado.append(\"\\n\")\n",
    "    # finalmente escribimos todo en el archivo, juntando los parrafos\n",
    "    file.write(\"\".join(enunciado))"
   ]
  },
  {
   "cell_type": "markdown",
   "metadata": {},
   "source": [
    "## Parte 2: `Web Service`"
   ]
  },
  {
   "cell_type": "markdown",
   "metadata": {},
   "source": [
    "Para hacer hacer las búsquedas y obtener el contenidos de las páginas:\n",
    "1. El parámetro ’action’ debe tener el valor ’query’ (https://en.wikipedia.org/w/api.php?action=help&modules=query).\n",
    "2. El parámetro ’prop’ debe tener las propiedades que quieres extraer\n",
    "3. El parámetro ’export’ debe ser ’true’\n",
    "4. Los requests deben ser realizados a https://es.wikipedia.org/w/api.php?\n",
    "5. Cada método GET se hace a esta misma url, con los parámetros encapsulados en un diccionario. Por ejemplo, GET (.../w/api.php?, params=’action’: ’query’,’titles’: ’chile’,’prop’:’extracts’, ’format’:’json’)\n",
    "6. El siguiente link muestra en el navegador como se vería una request de ejemplo. https://es.wikipedia.org/w/api.php?action=query&titles=chile&prop=extracts&export=true\n"
   ]
  },
  {
   "cell_type": "code",
   "execution_count": null,
   "metadata": {},
   "outputs": [],
   "source": [
    "# importamos \n",
    "import json\n",
    "import requests\n",
    "import os\n",
    "import time\n",
    "\n",
    "\n",
    "class PrograPedia:\n",
    "\n",
    "    def __init__(self):\n",
    "        self.dic = {}\n",
    "        self.url = \"https://es.wikipedia.org/w/api.php?\"\n",
    "        self.path = \"PrograPaginas.pp\"\n",
    "\n",
    "    def search_wiki(self, word):\n",
    "        value = requests.get(self.url, params={'action': 'query',\n",
    "                                               'titles': word,\n",
    "                                               'prop': 'extracts',\n",
    "                                               'export': True,\n",
    "                                               'explaintext': '',\n",
    "                                               'format': 'json'})\n",
    "\n",
    "        key = str(list(value.json()['query']['pages'].keys())[0])\n",
    "        target_dic = value.json()['query']['pages'][key]\n",
    "        print(target_dic)\n",
    "        my_dic = {word: {'title': word,\n",
    "                         'pageid': target_dic['pageid'],\n",
    "                         'url': None,\n",
    "                         'content': target_dic['extract']}\n",
    "                      }\n",
    "        print(my_dic)\n",
    "        self.dic.update(my_dic)\n",
    "        return my_dic[word]['content']\n",
    "\n",
    "    def search(self, word):\n",
    "        if word in self.dic:\n",
    "            return self.dic[word][\"content\"]\n",
    "        else:\n",
    "            return self.search_wiki(word)\n",
    "\n",
    "    def save_dict(self):\n",
    "        with open(self.path, \"w\") as file:\n",
    "            file.write(json.dumps(self.dic))\n",
    "\n",
    "    def menu(self):\n",
    "        print(\"Bienvenido a PrograPedia!\\n\\n\")\n",
    "        fin = False\n",
    "        while(not fin):\n",
    "            accion = input(\"Que deseas hacer?\\n1) Buscar\\n2) Salir\\n> \")\n",
    "            if accion == \"1\":\n",
    "                busqueda = input(\"Que deseas buscar?: \")\n",
    "                t = time.time()\n",
    "                result = self.search(busqueda)\n",
    "                print(result)\n",
    "                print(time.time() - t)\n",
    "            elif accion == \"2\":\n",
    "                print(\"Adios!\")\n",
    "                self.save_dict()\n",
    "                fin = True\n",
    "            else:\n",
    "                print(\"Error: Accion inexistente..\")\n",
    "\n",
    "\n",
    "\n",
    "if __name__ == '__main__':\n",
    "    prograpedia = PrograPedia()\n",
    "    prograpedia.menu()"
   ]
  },
  {
   "cell_type": "code",
   "execution_count": null,
   "metadata": {
    "collapsed": true
   },
   "outputs": [],
   "source": []
  }
 ],
 "metadata": {
  "kernelspec": {
   "display_name": "Python 3",
   "language": "python",
   "name": "python3"
  },
  "language_info": {
   "codemirror_mode": {
    "name": "ipython",
    "version": 3
   },
   "file_extension": ".py",
   "mimetype": "text/x-python",
   "name": "python",
   "nbconvert_exporter": "python",
   "pygments_lexer": "ipython3",
   "version": "3.6.2"
  }
 },
 "nbformat": 4,
 "nbformat_minor": 1
}

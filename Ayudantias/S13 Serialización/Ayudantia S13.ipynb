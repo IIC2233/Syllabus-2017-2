{
 "cells": [
  {
   "cell_type": "markdown",
   "metadata": {},
   "source": [
    "# Ayudantía Serialización de objetos\n",
    "#### Gabriel Lyon y José Manuel Larraín"
   ]
  },
  {
   "cell_type": "markdown",
   "metadata": {},
   "source": [
    "### Funciones útiles:\n",
    "\n",
    "* dump(s)\n",
    "* load(s)\n",
    "\n",
    "#### Pickle\n",
    "* \\_\\_getstate\\_\\_\n",
    "* \\_\\_setstate\\_\\_\n",
    "\n",
    "#### JSON\n",
    "* JSONEncoder\n",
    "* object_hook\n"
   ]
  },
  {
   "cell_type": "markdown",
   "metadata": {},
   "source": [
    "## Introducción\n",
    "\n",
    "¡Los alumnos del DDC tiene la idea del siglo! El servicio de mensajería instantánea DDChat, el que\n",
    "permitirá comunicarse de forma confidencial entre los alumnos del DDC. Lamentablemente, el infame Dr. Mavrakis, logró acceder a la base de datos y leer todos los mensajes enviados por los alumnos.\n",
    "\n",
    "Su misión es aplicar un sistema de seguridad encriptado para que no se vuelva a repetir tal desgracia,\n",
    "pero como usted no se quiere quedar sin las últimas copuchas del DDC, implementará un sistema que le\n",
    "permita visualizar las conversaciones entre dos alumnos."
   ]
  },
  {
   "cell_type": "markdown",
   "metadata": {},
   "source": [
    "### Formato Datos\n",
    "\n",
    "#### Mensajes\n",
    "\n",
    "Los mensajes vienen en el siguiente formato:\n",
    "\n",
    "- {\"send_to\": 95521376, \"content\": \"No puedo, tengo que estudiar\", \"send_by\": 76251142, \"last_view_date\": \"\", \"date\": \"18-4-2017 15:45\"}\n",
    "\n",
    "#### Usuarios\n",
    "\n",
    "Los contactos vienen en el siguiente formato:\n",
    "\n",
    "- {\"name\": \"Francisca Rios\", \"contacts\": [], \"phone_number\": 45348826}\n"
   ]
  },
  {
   "cell_type": "markdown",
   "metadata": {},
   "source": [
    "### Requerimientos \n",
    "\n",
    "En primer lugar, deberá leer los archivos y transformar su información a objetos de las clases `Usuario` y\n",
    "`Mensaje`. Esta información está contenida en la carpeta **db**, en donde la carpeta **usr** contiene a los usuarios y la carpeta **msg** contiene los mensajes. Ambos están en formato JSON.\n",
    "\n",
    "Para lograr este paso deben crear dos funciones que retornen una lista conteniendo sus respectivos objetos."
   ]
  },
  {
   "cell_type": "code",
   "execution_count": null,
   "metadata": {
    "collapsed": true
   },
   "outputs": [],
   "source": [
    "import pickle\n",
    "import json\n",
    "import os\n",
    "from random import randint\n",
    "from datetime import datetime\n",
    "\n",
    "\n",
    "class Usuario:\n",
    "    def __init__(self, name, contacts, phone_number):\n",
    "        self.name = name\n",
    "        self.phone_number = phone_number\n",
    "        self.contacts = contacts\n",
    "\n",
    "\n",
    "class Mensaje:\n",
    "    def __init__(self, send_to, content, send_by, date, last_view_date):\n",
    "        self.send_to = send_to\n",
    "        self.content = content\n",
    "        self.send_by = send_by\n",
    "        self.last_view_date = last_view_date\n",
    "        self.date = date\n",
    "        \n",
    "        \n",
    "def readUsers():\n",
    "    # aqui cargaremos los usuarios\n",
    "    pass\n",
    "\n",
    "def readMessages():\n",
    "    # aqui cargaremos los mensajes\n",
    "    pass"
   ]
  },
  {
   "cell_type": "markdown",
   "metadata": {},
   "source": [
    "Una vez cargado todos los datos, deberá agregar los contactos de cada usuario. Estos cuentan con el atributo `contacts`, que viene vacío. Para que un usuario **x** sea contacto de otro **y**, es necesario que **y** haya enviado un mensaje a **x**, pero **x** no necesariamente tiene a **y** como contacto."
   ]
  },
  {
   "cell_type": "code",
   "execution_count": null,
   "metadata": {
    "collapsed": true
   },
   "outputs": [],
   "source": [
    "def updateUsers():\n",
    "    # aqui agregaremos los contactos a cada usuario.\n",
    "    pass\n",
    "\n"
   ]
  },
  {
   "cell_type": "markdown",
   "metadata": {},
   "source": [
    "Luego deberá guardar los Usuarios actualizados en la carpeta **usr** de la carpeta **secure_db**, los cuales\n",
    "deben quedar en formato JSON, con un archivo por usuario."
   ]
  },
  {
   "cell_type": "code",
   "execution_count": null,
   "metadata": {
    "collapsed": true
   },
   "outputs": [],
   "source": [
    "def saveUsers():\n",
    "    # aqui guardamos a los usuarios\n",
    "    pass\n"
   ]
  },
  {
   "cell_type": "markdown",
   "metadata": {},
   "source": [
    "En el caso de los mensajes, que se guardan en la carpeta **msg** de **secure_db** utilizando pickle, deberá encriptar su contenido antes de guardarlos (un archivo por mensaje) con el algoritmo de seguridad más novedoso y seguro del momento: **Caesar Cipher**.\n",
    "\n",
    "**Caesar Cipher** es muy simple; dado un string y un número n, cada uno de los caracteres se reemplazarán\n",
    "por el n-ésimo caracter siguiente. Por ejemplo, dado n = 2 y la palabra Cesar, se obtendrá Eguct. El código\n",
    "Cesar se resume en la siguiente fórmula: `y(x, n) = (x+n) mód 26`, donde cada letra **x** está asociada a un número y **n** son los números a desplazar **x**, e **y** es el nuevo valor del caracer. Una operación modular retorna el resto de la división. Por ejemplo (5 + 4) mód 2 = 1. Asuman que el alfabeto no incluye a la ñ ni caracteres acentuados.\n",
    "\n",
    "¡La encriptación debe tomar lugar justo antes de serializar el archivo! La llave **n** a utilizar corresponderá\n",
    "al número telefónico de quién envió el mensaje.\n",
    "\n",
    "Finalmente, debe quedar registrado cada vez que alguien deserialice un mensaje. Para esto, deben actualizar en el archivo respectivo el atributo `last_view_date` con la fecha y hora de la última deserialización de un mensaje."
   ]
  },
  {
   "cell_type": "code",
   "execution_count": null,
   "metadata": {
    "collapsed": true
   },
   "outputs": [],
   "source": [
    "def saveEncriptedMessages():\n",
    "    # aqui guardamos los mensajes encriptados\n",
    "    pass\n",
    "\n",
    "def caesarCipher():\n",
    "    # aqui hacemos el algoritmo de encriptacion\n",
    "    pass"
   ]
  }
 ],
 "metadata": {
  "kernelspec": {
   "display_name": "Python 3",
   "language": "python",
   "name": "python3"
  },
  "language_info": {
   "codemirror_mode": {
    "name": "ipython",
    "version": 3
   },
   "file_extension": ".py",
   "mimetype": "text/x-python",
   "name": "python",
   "nbconvert_exporter": "python",
   "pygments_lexer": "ipython3",
   "version": "3.6.2"
  }
 },
 "nbformat": 4,
 "nbformat_minor": 2
}
